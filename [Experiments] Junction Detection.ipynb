{
 "cells": [
  {
   "cell_type": "markdown",
   "metadata": {},
   "source": [
    "Import packages!"
   ]
  },
  {
   "cell_type": "code",
   "execution_count": 1,
   "metadata": {
    "collapsed": true
   },
   "outputs": [],
   "source": [
    "import numpy as np"
   ]
  },
  {
   "cell_type": "markdown",
   "metadata": {},
   "source": [
    "Read the splice data"
   ]
  },
  {
   "cell_type": "code",
   "execution_count": 2,
   "metadata": {
    "collapsed": true
   },
   "outputs": [],
   "source": [
    "fname = 'splice.data'\n",
    "with open(fname) as f:\n",
    "    content = f.readlines()\n",
    "content = [x.strip().split(',') for x in content]\n",
    "for l in content:\n",
    "    for i in range(len(l)):\n",
    "        l[i] = l[i].strip()\n",
    "raw_data = np.array(content)"
   ]
  },
  {
   "cell_type": "code",
   "execution_count": 3,
   "metadata": {
    "collapsed": true
   },
   "outputs": [],
   "source": [
    "# Given one 'row' of data, constructs an input and output out of it\n",
    "def getInstance(row):\n",
    "    one_hot = np.zeros((1, 3))\n",
    "    label = row[0]\n",
    "    if label == 'EI':\n",
    "        one_hot[0][0] = 1\n",
    "    elif label == 'IE':\n",
    "        one_hot[0][1] = 1\n",
    "    else:\n",
    "        one_hot[0][2] = 1\n",
    "    orth = np.zeros((len(row[2]), 4))\n",
    "    for i in range(len(row[2])):\n",
    "        c = row[2][i]\n",
    "        if c == 'A':\n",
    "            orth[i][0] = 1\n",
    "        elif c == 'C':\n",
    "            orth[i][1] = 1\n",
    "        elif c == 'G':\n",
    "            orth[i][2] = 1\n",
    "        elif c == 'T':\n",
    "            orth[i][3] = 1\n",
    "        elif c == 'D':\n",
    "            orth[i][0] = 1/3.\n",
    "            orth[i][2] = 1/3.\n",
    "            orth[i][3] = 1/3.\n",
    "        elif c == 'N':\n",
    "            orth[i][0] = 1/4.\n",
    "            orth[i][1] = 1/4.\n",
    "            orth[i][2] = 1/4.\n",
    "            orth[i][3] = 1/4.\n",
    "        elif c == 'S':\n",
    "            orth[i][1] = 1/2.\n",
    "            orth[i][2] = 1/2.\n",
    "        elif c == 'R':\n",
    "            orth[i][0] = 1/2.\n",
    "            orth[i][2] = 1/2.\n",
    "    return orth, one_hot"
   ]
  },
  {
   "cell_type": "code",
   "execution_count": 421,
   "metadata": {},
   "outputs": [
    {
     "name": "stdout",
     "output_type": "stream",
     "text": [
      "(3190, 4, 60) (3190, 1, 3)\n"
     ]
    }
   ],
   "source": [
    "x = []\n",
    "y = []\n",
    "for i in range(raw_data.shape[0]):\n",
    "    xi, yi = getInstance(raw_data[i])\n",
    "    x.append(xi)\n",
    "    y.append(yi)\n",
    "x = np.array(x)\n",
    "y = np.array(y)\n",
    "\n",
    "# Shuffle dataset since it's unevenly distributed\n",
    "shuffle_index = np.random.permutation(len(x))\n",
    "x = x[shuffle_index]\n",
    "y = y[shuffle_index]\n",
    "\n",
    "# Conv1D expects channels first\n",
    "x = np.swapaxes(x, 1, 2)\n",
    "print (str(x.shape[0]) + \" examples parsed.\")"
   ]
  },
  {
   "cell_type": "markdown",
   "metadata": {},
   "source": [
    "Construct a classification model"
   ]
  },
  {
   "cell_type": "code",
   "execution_count": 304,
   "metadata": {},
   "outputs": [],
   "source": [
    "from keras.models import Sequential\n",
    "from keras.layers import Dense, Activation, Conv1D, Dropout, MaxPooling1D\n",
    "from keras.callbacks import TensorBoard\n",
    "from keras import backend as K"
   ]
  },
  {
   "cell_type": "code",
   "execution_count": 305,
   "metadata": {
    "collapsed": true
   },
   "outputs": [],
   "source": [
    "from keras.backend import clear_session\n",
    "clear_session()\n",
    "K.set_learning_phase(True)"
   ]
  },
  {
   "cell_type": "code",
   "execution_count": 334,
   "metadata": {},
   "outputs": [],
   "source": [
    "model = Sequential()\n",
    "model.add(Conv1D(8, 3, input_shape=(None, 60), padding='same', name='conv1'))\n",
    "model.add(Activation('relu'))\n",
    "model.add(MaxPooling1D())\n",
    "model.add(Conv1D(16, 3, padding='same', name='conv2'))\n",
    "model.add(Activation('relu'))\n",
    "model.add(MaxPooling1D())\n",
    "model.add(Dense(3, name='fc1'))\n",
    "model.add(Dropout(0.5))\n",
    "model.add(Activation('softmax'))"
   ]
  },
  {
   "cell_type": "code",
   "execution_count": 335,
   "metadata": {
    "collapsed": true
   },
   "outputs": [],
   "source": [
    "model.compile(optimizer='adam',\n",
    "              loss='categorical_crossentropy',\n",
    "              metrics=['accuracy'])"
   ]
  },
  {
   "cell_type": "code",
   "execution_count": 336,
   "metadata": {},
   "outputs": [
    {
     "name": "stdout",
     "output_type": "stream",
     "text": [
      "Train on 2871 samples, validate on 319 samples\n",
      "Epoch 1/30\n",
      "2871/2871 [==============================] - 4s 1ms/step - loss: 0.9931 - acc: 0.5131 - val_loss: 0.8256 - val_acc: 0.6583\n",
      "Epoch 2/30\n",
      "2871/2871 [==============================] - 1s 206us/step - loss: 0.6208 - acc: 0.7844 - val_loss: 0.4016 - val_acc: 0.8871\n",
      "Epoch 3/30\n",
      "2871/2871 [==============================] - 1s 176us/step - loss: 0.3112 - acc: 0.9094 - val_loss: 0.2267 - val_acc: 0.9310\n",
      "Epoch 4/30\n",
      "2871/2871 [==============================] - 0s 163us/step - loss: 0.1968 - acc: 0.9446 - val_loss: 0.1753 - val_acc: 0.9373\n",
      "Epoch 5/30\n",
      "2871/2871 [==============================] - 0s 161us/step - loss: 0.1477 - acc: 0.9606 - val_loss: 0.1473 - val_acc: 0.9530\n",
      "Epoch 6/30\n",
      "2871/2871 [==============================] - 0s 150us/step - loss: 0.1193 - acc: 0.9666 - val_loss: 0.1414 - val_acc: 0.9498\n",
      "Epoch 7/30\n",
      "2871/2871 [==============================] - 0s 139us/step - loss: 0.0999 - acc: 0.9725 - val_loss: 0.1373 - val_acc: 0.9498\n",
      "Epoch 8/30\n",
      "2871/2871 [==============================] - 0s 138us/step - loss: 0.0877 - acc: 0.9784 - val_loss: 0.1212 - val_acc: 0.9592\n",
      "Epoch 9/30\n",
      "2871/2871 [==============================] - 0s 152us/step - loss: 0.0778 - acc: 0.9829 - val_loss: 0.1301 - val_acc: 0.9561\n",
      "Epoch 10/30\n",
      "2871/2871 [==============================] - 0s 139us/step - loss: 0.0702 - acc: 0.9822 - val_loss: 0.1236 - val_acc: 0.9624\n",
      "Epoch 11/30\n",
      "2871/2871 [==============================] - 0s 129us/step - loss: 0.0643 - acc: 0.9854 - val_loss: 0.1302 - val_acc: 0.9561\n",
      "Epoch 12/30\n",
      "2871/2871 [==============================] - 0s 119us/step - loss: 0.0559 - acc: 0.9885 - val_loss: 0.1384 - val_acc: 0.9467\n",
      "Epoch 13/30\n",
      "2871/2871 [==============================] - 0s 128us/step - loss: 0.0504 - acc: 0.9889 - val_loss: 0.1280 - val_acc: 0.9561\n",
      "Epoch 14/30\n",
      "2871/2871 [==============================] - 0s 112us/step - loss: 0.0467 - acc: 0.9892 - val_loss: 0.1286 - val_acc: 0.9687\n",
      "Epoch 15/30\n",
      "2871/2871 [==============================] - 0s 125us/step - loss: 0.0423 - acc: 0.9934 - val_loss: 0.1301 - val_acc: 0.9561\n",
      "Epoch 16/30\n",
      "2871/2871 [==============================] - 0s 110us/step - loss: 0.0395 - acc: 0.9934 - val_loss: 0.1376 - val_acc: 0.9561\n",
      "Epoch 17/30\n",
      "2871/2871 [==============================] - 0s 102us/step - loss: 0.0361 - acc: 0.9934 - val_loss: 0.1493 - val_acc: 0.9530\n",
      "Epoch 18/30\n",
      "2871/2871 [==============================] - 0s 123us/step - loss: 0.0315 - acc: 0.9948 - val_loss: 0.1414 - val_acc: 0.9530\n",
      "Epoch 19/30\n",
      "2871/2871 [==============================] - 0s 98us/step - loss: 0.0293 - acc: 0.9969 - val_loss: 0.1787 - val_acc: 0.9467\n",
      "Epoch 20/30\n",
      "2871/2871 [==============================] - 0s 95us/step - loss: 0.0270 - acc: 0.9962 - val_loss: 0.1549 - val_acc: 0.9498\n",
      "Epoch 21/30\n",
      "2871/2871 [==============================] - 0s 88us/step - loss: 0.0252 - acc: 0.9962 - val_loss: 0.1741 - val_acc: 0.9530\n",
      "Epoch 22/30\n",
      "2871/2871 [==============================] - 0s 92us/step - loss: 0.0228 - acc: 0.9976 - val_loss: 0.1691 - val_acc: 0.9498\n",
      "Epoch 23/30\n",
      "2871/2871 [==============================] - 0s 76us/step - loss: 0.0214 - acc: 0.9965 - val_loss: 0.2034 - val_acc: 0.9404\n",
      "Epoch 24/30\n",
      "2871/2871 [==============================] - 0s 80us/step - loss: 0.0198 - acc: 0.9976 - val_loss: 0.1689 - val_acc: 0.9467\n",
      "Epoch 25/30\n",
      "2871/2871 [==============================] - 0s 94us/step - loss: 0.0188 - acc: 0.9979 - val_loss: 0.1870 - val_acc: 0.9498\n",
      "Epoch 26/30\n",
      "2871/2871 [==============================] - 0s 77us/step - loss: 0.0170 - acc: 0.9993 - val_loss: 0.1740 - val_acc: 0.9498\n",
      "Epoch 27/30\n",
      "2871/2871 [==============================] - 0s 84us/step - loss: 0.0157 - acc: 0.9990 - val_loss: 0.1718 - val_acc: 0.9467\n",
      "Epoch 28/30\n",
      "2871/2871 [==============================] - 0s 102us/step - loss: 0.0160 - acc: 0.9990 - val_loss: 0.1886 - val_acc: 0.9498\n",
      "Epoch 29/30\n",
      "2871/2871 [==============================] - 0s 99us/step - loss: 0.0138 - acc: 0.9990 - val_loss: 0.2208 - val_acc: 0.9436\n",
      "Epoch 30/30\n",
      "2871/2871 [==============================] - 0s 87us/step - loss: 0.0130 - acc: 0.9990 - val_loss: 0.2153 - val_acc: 0.9498\n"
     ]
    }
   ],
   "source": [
    "callbacks = []\n",
    "#callbacks.append(TensorBoard(write_graph=False, histogram_freq=1, write_grads=False, write_images=False))\n",
    "\n",
    "model.fit(x, y, epochs=30, batch_size=32, validation_split=0.1, shuffle=True, callbacks=callbacks)\n",
    "K.set_learning_phase(False)"
   ]
  },
  {
   "cell_type": "code",
   "execution_count": 434,
   "metadata": {},
   "outputs": [],
   "source": [
    "import matplotlib.pyplot as plt\n",
    "\n",
    "def visualizeLayer(layer_name, filter_index):\n",
    "    layer_dict = dict([(layer.name, layer) for layer in model.layers])\n",
    "    layer_output = layer_dict[layer_name].output\n",
    "    print (layer_output)\n",
    "    #loss = K.mean(layer_output[:, :, filter_index])\n",
    "    loss = K.mean(model.output[:, :, filter_index])\n",
    "    input_img = model.input\n",
    "    # compute the gradient of the input picture wrt this loss\n",
    "    grads = K.gradients(loss, input_img)[0]\n",
    "\n",
    "    # normalization trick: we normalize the gradient\n",
    "    #grads /= (K.sqrt(K.mean(K.square(grads))) + 1e-5)\n",
    "\n",
    "    # this function returns the loss and grads given the input picture\n",
    "    iterate = K.function([input_img], [loss, grads])\n",
    "    # we start from a gray image with some noise\n",
    "    input_img_data = np.zeros((1, 4, 60))\n",
    "    input_img_data[:] = 0.25\n",
    "    # run gradient ascent for 20 steps\n",
    "    step = 1\n",
    "    for i in range(20):\n",
    "        loss_value, grads_value = iterate([input_img_data])\n",
    "        input_img_data += grads_value * step\n",
    "        \n",
    "        #print('Current loss value:', loss_value)\n",
    "        if loss_value <= 0.:\n",
    "            # some filters get stuck to 0, we can skip them\n",
    "            # break\n",
    "            pass\n",
    "    input_img_data[0] /= np.linalg.norm(input_img_data[0], 1, axis=0)\n",
    "    input_img_data = np.clip(input_img_data, 0, 1)\n",
    "    plt.imshow(input_img_data[0], cmap='viridis')\n",
    "    plt.xticks(np.arange(60), np.arange(60)+1)\n",
    "    plt.yticks(np.arange(4), ('A', 'C', 'G', 'T'))\n",
    "    plt.show()"
   ]
  },
  {
   "cell_type": "code",
   "execution_count": 435,
   "metadata": {},
   "outputs": [
    {
     "name": "stdout",
     "output_type": "stream",
     "text": [
      "Tensor(\"conv1_4/add:0\", shape=(?, ?, 8), dtype=float32)\n"
     ]
    },
    {
     "data": {
      "image/png": "[encoded data removed]",
      "text/plain": [
       "<matplotlib.figure.Figure at 0x17409f169e8>"
      ]
     },
     "metadata": {},
     "output_type": "display_data"
    }
   ],
   "source": [
    "visualizeLayer('conv1', 0)"
   ]
  },
  {
   "cell_type": "code",
   "execution_count": 404,
   "metadata": {},
   "outputs": [
    {
     "name": "stdout",
     "output_type": "stream",
     "text": [
      "(?, ?, 3)\n",
      "Tensor(\"gradients_64/conv1_4/convolution/ExpandDims_grad/Reshape:0\", shape=(?, ?, 60), dtype=float32)\n",
      "Label is 2\n"
     ]
    },
    {
     "data": {
      "image/png": "[encoded data removed]",
      "text/plain": [
       "<matplotlib.figure.Figure at 0x17404456630>"
      ]
     },
     "metadata": {},
     "output_type": "display_data"
    }
   ],
   "source": [
    "index = 1\n",
    "print (model.output.shape)\n",
    "loss = K.mean(model.output[:, :, np.argmax(y[index])])\n",
    "input_img = model.input\n",
    "grads = K.gradients(loss, input_img)[0]\n",
    "print (grads)\n",
    "iterate = K.function([input_img], [loss, grads])\n",
    "input_img_data = np.zeros((1, 4, 60))\n",
    "input_img_data[0,:] = x[index]\n",
    "loss_value, grads_value = iterate([input_img_data])\n",
    "\n",
    "print (\"Label is \" + str(np.argmax(y[index])))\n",
    "g = grads_value[0] * x[index]\n",
    "g = np.sum(g, axis=0).reshape(1, 60)\n",
    "def sequenceFromOneHot(s):\n",
    "    s = s.T\n",
    "    l = []\n",
    "    for i in range(len(s)):\n",
    "        if s[i][0] == 1.:\n",
    "            l.append('A')\n",
    "        elif s[i][1] == 1.:\n",
    "            l.append('C')\n",
    "        elif s[i][2] == 1.:\n",
    "            l.append('G')\n",
    "        elif s[i][3] == 1.:\n",
    "            l.append('T')\n",
    "        elif s[i][0] == 1/3. and s[i][2] == 1/3. and s[i][3] == 1/3.:\n",
    "            l.append('D')\n",
    "        elif s[i][0] == 1/4. and s[i][1] == 1/4. and s[i][2] == 1/4. and s[i][3] == 1/4.:\n",
    "            l.append('N')\n",
    "        elif s[i][1] == 1/2. and s[i][2] == 1/2.:\n",
    "            l.append('S')\n",
    "        elif s[i][0] == 1/2. and s[i][2] == 1/2.:\n",
    "            l.append('R')\n",
    "    return l\n",
    "plt.xticks( np.arange(60), sequenceFromOneHot(x[index]) )\n",
    "plt.yticks([])\n",
    "plt.imshow(g, cmap='viridis')\n",
    "plt.show()"
   ]
  },
  {
   "cell_type": "code",
   "execution_count": 383,
   "metadata": {},
   "outputs": [
    {
     "name": "stdout",
     "output_type": "stream",
     "text": [
      "[12, 8]\n"
     ]
    }
   ],
   "source": [
    "fig_size = plt.rcParams[\"figure.figsize\"]\n",
    "print (fig_size)\n",
    "fig_size[0] = 15\n",
    "fig_size[1] = 10"
   ]
  },
  {
   "cell_type": "code",
   "execution_count": 426,
   "metadata": {},
   "outputs": [
    {
     "name": "stdout",
     "output_type": "stream",
     "text": [
      "[[ 0.  1.  0.]] [[[  2.41259013e-08   9.99948621e-01   5.13993073e-05]]]\n",
      "5.13993e-05\n",
      "[[[  2.60705182e-08   9.99937773e-01   6.22441148e-05]]]\n",
      "6.22441e-05\n",
      "[[[  2.87611090e-08   9.99922633e-01   7.73485372e-05]]]\n",
      "7.73485e-05\n",
      "[[[  3.24939897e-08   9.99898672e-01   1.01319609e-04]]]\n",
      "0.00010132\n",
      "[[[  3.81263341e-08   9.99855638e-01   1.44300167e-04]]]\n",
      "0.0001443\n",
      "[[[  4.78713780e-08   9.99761283e-01   2.38758104e-04]]]\n",
      "0.000238758\n",
      "[[[  6.97509677e-08   9.99450743e-01   5.49164950e-04]]]\n",
      "0.000549165\n",
      "[[[  1.70917033e-07   9.96487021e-01   3.51292174e-03]]]\n",
      "0.00351292\n",
      "[[[  3.04796004e-07   3.13053583e-03   9.96869147e-01]]]\n",
      "0.996869\n",
      "[[[  3.26829230e-08   1.05160291e-06   9.99998927e-01]]]\n",
      "['A', 'A', 'G', 'C', 'C', 'A', 'G', 'A', 'T', 'A', 'T', 'G', 'T', 'C', 'T', 'G', 'T', 'G', 'T', 'T', 'C', 'T', 'C', 'T', 'T', 'T', 'G', 'C', 'A', 'G', 'T', 'A', 'C', 'T', 'G', 'A', 'A', 'G', 'A', 'T', 'A', 'A', 'C', 'A', 'G', 'C', 'C', 'A', 'G', 'G', 'G', 'A', 'G', 'G', 'A', 'C', 'A', 'A', 'G', 'C']\n",
      "['A', 'A', 'G', 'C', 'C', 'A', 'G', 'A', 'T', 'A', 'T', 'G', 'T', 'C', 'T', 'G', 'T', 'G', 'T', 'T', 'C', 'T', 'C', 'T', 'T', 'T', 'G', 'C', 'A', 'G', 'T', 'A', 'C', 'T', 'G', 'A', 'A', 'G', 'A', 'T', 'A', 'A', 'C', 'A', 'G', 'C', 'C', 'A', 'G', 'G', 'G', 'A', 'G', 'G', 'A', 'C', 'A', 'A', 'G', 'C']\n"
     ]
    }
   ],
   "source": [
    "# Perturbation:\n",
    "index = 0\n",
    "label = y[index]\n",
    "prediction = model.predict(np.array([x[index]]))\n",
    "print (label, prediction)\n",
    "e = np.array(x[index])\n",
    "target = 2\n",
    "i = 0\n",
    "\n",
    "loss = K.mean(model.output[:, :, target])\n",
    "input_img = model.input\n",
    "grads = K.gradients(loss, input_img)[0]\n",
    "iterate = K.function([input_img], [loss, grads])\n",
    "input_img_data = np.zeros((1, 4, 60))\n",
    "\n",
    "step = 10.\n",
    "\n",
    "while True:\n",
    "    i += 1\n",
    "    input_img_data[0,:] = e\n",
    "    loss_value, grads_value = iterate([input_img_data])\n",
    "    e += grads_value[0] * step\n",
    "    print(loss_value)\n",
    "    print (model.predict(np.array([e])))\n",
    "    if (loss_value > 0.99):\n",
    "        break\n",
    "print (sequenceFromOneHot(x[index]))\n",
    "en = np.argmax(e, axis=0)\n",
    "new_seq = []\n",
    "for i in en:\n",
    "    if i == 0:\n",
    "        new_seq.append('A')\n",
    "    elif i == 1:\n",
    "        new_seq.append('C')\n",
    "    elif i == 2:\n",
    "        new_seq.append('G')\n",
    "    else:\n",
    "        new_seq.append('T')\n",
    "print (new_seq)"
   ]
  },
  {
   "cell_type": "code",
   "execution_count": null,
   "metadata": {
    "collapsed": true
   },
   "outputs": [],
   "source": []
  }
 ],
 "metadata": {
  "kernelspec": {
   "display_name": "Python 3",
   "language": "python",
   "name": "python3"
  },
  "language_info": {
   "codemirror_mode": {
    "name": "ipython",
    "version": 3
   },
   "file_extension": ".py",
   "mimetype": "text/x-python",
   "name": "python",
   "nbconvert_exporter": "python",
   "pygments_lexer": "ipython3",
   "version": "3.6.1"
  }
 },
 "nbformat": 4,
 "nbformat_minor": 2
}
