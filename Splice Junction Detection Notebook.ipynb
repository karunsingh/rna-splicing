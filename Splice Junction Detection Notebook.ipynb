{
 "cells": [
  {
   "cell_type": "markdown",
   "metadata": {},
   "source": [
    "# Detecting Splice Junctions using Convolutional Neural Networks\n",
    "This iPython notebook contains all the code necessary to replicate the evaluations from the writeup, along with some explanations of how the code works. Run the notebook cell-by-cell to follow along!"
   ]
  },
  {
   "cell_type": "markdown",
   "metadata": {},
   "source": [
    "### Importing Numpy\n",
    "As the first step, we import NumPy, which is used extensively throughout the rest of the notebook for easier numerical computing."
   ]
  },
  {
   "cell_type": "code",
   "execution_count": 1,
   "metadata": {
    "collapsed": true
   },
   "outputs": [],
   "source": [
    "import numpy as np"
   ]
  },
  {
   "cell_type": "markdown",
   "metadata": {},
   "source": [
    "### Reading and Parsing Data\n",
    "The data, sourced from [this repository](https://archive.ics.uci.edu/ml/datasets/Molecular+Biology+(Splice-junction+Gene+Sequences), is in a comma-separated format, so we first must split each row along the commas and clean up the data."
   ]
  },
  {
   "cell_type": "code",
   "execution_count": 2,
   "metadata": {
    "collapsed": true
   },
   "outputs": [],
   "source": [
    "fname = 'splice.data'\n",
    "with open(fname) as f:\n",
    "    content = f.readlines()\n",
    "content = [x.strip().split(',') for x in content]\n",
    "for l in content:\n",
    "    for i in range(len(l)):\n",
    "        l[i] = l[i].strip()\n",
    "raw_data = np.array(content)"
   ]
  },
  {
   "cell_type": "markdown",
   "metadata": {},
   "source": [
    "Next, we define a function, `getInstanceFromRow`, that takes in one 'row' of clean input from the file, and in return outputs an x and y -- i.e., a sequence and its label respectively. Sequences are represented orthogonally, where the four axes represent the four bases: Adenine (A), Cytosine (C), Guanine (G) and Thymine (T). The dataset being used contains some missing bases, as described on [this README](https://archive.ics.uci.edu/ml/machine-learning-databases/molecular-biology/splice-junction-gene-sequences/splice.names). To represent these, we uniformly a weight of 1 among the possible underlying bases. The labels are returned in a one-hot encoding format, where class 0 is an exon-to-intron junction, class 1 is an intron-to-exon junction, and class 2 represents the absence of a splice junction."
   ]
  },
  {
   "cell_type": "code",
   "execution_count": 3,
   "metadata": {
    "collapsed": true
   },
   "outputs": [],
   "source": [
    "def getInstanceFromRow(row):\n",
    "    one_hot = np.zeros((1, 3))\n",
    "    label = row[0]\n",
    "    if label == 'EI':\n",
    "        one_hot[0][0] = 1\n",
    "    elif label == 'IE':\n",
    "        one_hot[0][1] = 1\n",
    "    else:\n",
    "        one_hot[0][2] = 1\n",
    "    orth = np.zeros((len(row[2]), 4))\n",
    "    for i in range(len(row[2])):\n",
    "        c = row[2][i]\n",
    "        if c == 'A':\n",
    "            orth[i][0] = 1\n",
    "        elif c == 'C':\n",
    "            orth[i][1] = 1\n",
    "        elif c == 'G':\n",
    "            orth[i][2] = 1\n",
    "        elif c == 'T':\n",
    "            orth[i][3] = 1\n",
    "        elif c == 'D':\n",
    "            orth[i][0] = 1/3.\n",
    "            orth[i][2] = 1/3.\n",
    "            orth[i][3] = 1/3.\n",
    "        elif c == 'N':\n",
    "            orth[i][0] = 1/4.\n",
    "            orth[i][1] = 1/4.\n",
    "            orth[i][2] = 1/4.\n",
    "            orth[i][3] = 1/4.\n",
    "        elif c == 'S':\n",
    "            orth[i][1] = 1/2.\n",
    "            orth[i][2] = 1/2.\n",
    "        elif c == 'R':\n",
    "            orth[i][0] = 1/2.\n",
    "            orth[i][2] = 1/2.\n",
    "    return orth, one_hot"
   ]
  },
  {
   "cell_type": "markdown",
   "metadata": {},
   "source": [
    "Finally, we use the above function to aggregate our dataset into two arrays, `x` and `y`, containing the inputs and labels respectively. Note that it is important to shuffle the dataset, since it is ordered by labels to start with."
   ]
  },
  {
   "cell_type": "code",
   "execution_count": 45,
   "metadata": {},
   "outputs": [
    {
     "name": "stdout",
     "output_type": "stream",
     "text": [
      "3190 examples parsed.\n"
     ]
    }
   ],
   "source": [
    "x = []\n",
    "y = []\n",
    "for i in range(raw_data.shape[0]):\n",
    "    xi, yi = getInstanceFromRow(raw_data[i])\n",
    "    x.append(xi)\n",
    "    y.append(yi)\n",
    "x = np.array(x)\n",
    "y = np.array(y)\n",
    "\n",
    "# Shuffle dataset since it's unevenly distributed\n",
    "shuffle_index = np.random.permutation(len(x))\n",
    "x = x[shuffle_index]\n",
    "y = y[shuffle_index]\n",
    "\n",
    "# Conv1D expects channels first\n",
    "x = np.swapaxes(x, 1, 2)\n",
    "print (str(x.shape[0]) + \" examples parsed.\")"
   ]
  },
  {
   "cell_type": "markdown",
   "metadata": {},
   "source": [
    "# Learning to detect junctions using a convolutional network\n",
    "The next section uses the Keras framework to put together a small convolutional network, which is then trained and evaluated on the dataset parsed above. The first step is to organize our imports for this section."
   ]
  },
  {
   "cell_type": "code",
   "execution_count": 5,
   "metadata": {},
   "outputs": [
    {
     "name": "stderr",
     "output_type": "stream",
     "text": [
      "Using TensorFlow backend.\n"
     ]
    }
   ],
   "source": [
    "from keras.models import Sequential\n",
    "from keras.layers import Dense, Activation, Conv1D, Dropout, MaxPooling1D\n",
    "from keras import backend as K\n",
    "K.set_learning_phase(True)"
   ]
  },
  {
   "cell_type": "markdown",
   "metadata": {},
   "source": [
    "Next, we describe the actual architecture of the network, as described in the writeup."
   ]
  },
  {
   "cell_type": "code",
   "execution_count": 46,
   "metadata": {
    "collapsed": true
   },
   "outputs": [],
   "source": [
    "model = Sequential()\n",
    "model.add(Conv1D(8, 3, input_shape=(None, 60), padding='same', name='conv1'))\n",
    "model.add(Activation('relu'))\n",
    "model.add(MaxPooling1D())\n",
    "model.add(Conv1D(16, 3, padding='same', name='conv2'))\n",
    "model.add(Activation('relu'))\n",
    "model.add(MaxPooling1D())\n",
    "model.add(Dense(3, name='fc1'))\n",
    "model.add(Dropout(0.5))\n",
    "model.add(Activation('softmax'))"
   ]
  },
  {
   "cell_type": "markdown",
   "metadata": {},
   "source": [
    "The architecture needs to be accompanied by a loss function, and an optimizer that will aim to minimize the loss function during the training process. In our case, we can use the categorical cross-entropy loss, which is typically used in classification settings. We use the Adam optimizer -- a commonly used optimizer -- to minimize the loss."
   ]
  },
  {
   "cell_type": "code",
   "execution_count": 47,
   "metadata": {
    "collapsed": true
   },
   "outputs": [],
   "source": [
    "model.compile(optimizer='adam',\n",
    "              loss='categorical_crossentropy',\n",
    "              metrics=['accuracy'])"
   ]
  },
  {
   "cell_type": "markdown",
   "metadata": {},
   "source": [
    "Finally, we can start the training process. We fit the model on the dataset from above, while splitting it into a training set and a validation set. The validation set is not used for training -- it is simply used to track the accuracy of the network on unseen data as training progresses."
   ]
  },
  {
   "cell_type": "code",
   "execution_count": 48,
   "metadata": {},
   "outputs": [
    {
     "name": "stdout",
     "output_type": "stream",
     "text": [
      "Train on 2871 samples, validate on 319 samples\n",
      "Epoch 1/30\n",
      "2871/2871 [==============================] - 4s 1ms/step - loss: 1.0321 - acc: 0.4835 - val_loss: 0.9841 - val_acc: 0.5141\n",
      "Epoch 2/30\n",
      "2871/2871 [==============================] - 1s 198us/step - loss: 0.8920 - acc: 0.5604 - val_loss: 0.7960 - val_acc: 0.6489\n",
      "Epoch 3/30\n",
      "2871/2871 [==============================] - 1s 181us/step - loss: 0.6093 - acc: 0.7792 - val_loss: 0.4681 - val_acc: 0.8433\n",
      "Epoch 4/30\n",
      "2871/2871 [==============================] - 0s 162us/step - loss: 0.3437 - acc: 0.8927 - val_loss: 0.2916 - val_acc: 0.9060\n",
      "Epoch 5/30\n",
      "2871/2871 [==============================] - 0s 157us/step - loss: 0.2221 - acc: 0.9377 - val_loss: 0.2183 - val_acc: 0.9310\n",
      "Epoch 6/30\n",
      "2871/2871 [==============================] - 0s 162us/step - loss: 0.1638 - acc: 0.9554 - val_loss: 0.1943 - val_acc: 0.9310\n",
      "Epoch 7/30\n",
      "2871/2871 [==============================] - 0s 146us/step - loss: 0.1338 - acc: 0.9641 - val_loss: 0.1693 - val_acc: 0.9404\n",
      "Epoch 8/30\n",
      "2871/2871 [==============================] - 0s 144us/step - loss: 0.1106 - acc: 0.9707 - val_loss: 0.1579 - val_acc: 0.9404\n",
      "Epoch 9/30\n",
      "2871/2871 [==============================] - 0s 154us/step - loss: 0.0920 - acc: 0.9777 - val_loss: 0.1536 - val_acc: 0.9467\n",
      "Epoch 10/30\n",
      "2871/2871 [==============================] - 0s 155us/step - loss: 0.0804 - acc: 0.9791 - val_loss: 0.1545 - val_acc: 0.9436\n",
      "Epoch 11/30\n",
      "2871/2871 [==============================] - 0s 125us/step - loss: 0.0719 - acc: 0.9826 - val_loss: 0.1495 - val_acc: 0.9436\n",
      "Epoch 12/30\n",
      "2871/2871 [==============================] - 0s 126us/step - loss: 0.0612 - acc: 0.9885 - val_loss: 0.1512 - val_acc: 0.9467\n",
      "Epoch 13/30\n",
      "2871/2871 [==============================] - 0s 118us/step - loss: 0.0534 - acc: 0.9920 - val_loss: 0.1542 - val_acc: 0.9436\n",
      "Epoch 14/30\n",
      "2871/2871 [==============================] - 0s 125us/step - loss: 0.0490 - acc: 0.9896 - val_loss: 0.1637 - val_acc: 0.9467\n",
      "Epoch 15/30\n",
      "2871/2871 [==============================] - 0s 101us/step - loss: 0.0430 - acc: 0.9937 - val_loss: 0.1677 - val_acc: 0.9498\n",
      "Epoch 16/30\n",
      "2871/2871 [==============================] - 0s 118us/step - loss: 0.0387 - acc: 0.9955 - val_loss: 0.1704 - val_acc: 0.9373\n",
      "Epoch 17/30\n",
      "2871/2871 [==============================] - 0s 105us/step - loss: 0.0346 - acc: 0.9958 - val_loss: 0.1770 - val_acc: 0.9373\n",
      "Epoch 18/30\n",
      "2871/2871 [==============================] - 0s 79us/step - loss: 0.0318 - acc: 0.9965 - val_loss: 0.1816 - val_acc: 0.9373\n",
      "Epoch 19/30\n",
      "2871/2871 [==============================] - 0s 84us/step - loss: 0.0274 - acc: 0.9976 - val_loss: 0.1926 - val_acc: 0.9373\n",
      "Epoch 20/30\n",
      "2871/2871 [==============================] - 0s 80us/step - loss: 0.0256 - acc: 0.9972 - val_loss: 0.1921 - val_acc: 0.9404\n",
      "Epoch 21/30\n",
      "2871/2871 [==============================] - 0s 83us/step - loss: 0.0226 - acc: 0.9979 - val_loss: 0.2029 - val_acc: 0.9404\n",
      "Epoch 22/30\n",
      "2871/2871 [==============================] - 0s 79us/step - loss: 0.0202 - acc: 0.9986 - val_loss: 0.2026 - val_acc: 0.9404\n",
      "Epoch 23/30\n",
      "2871/2871 [==============================] - 0s 81us/step - loss: 0.0190 - acc: 0.9986 - val_loss: 0.2066 - val_acc: 0.9342\n",
      "Epoch 24/30\n",
      "2871/2871 [==============================] - 0s 104us/step - loss: 0.0182 - acc: 0.9983 - val_loss: 0.2030 - val_acc: 0.9404\n",
      "Epoch 25/30\n",
      "2871/2871 [==============================] - 0s 103us/step - loss: 0.0158 - acc: 0.9986 - val_loss: 0.2130 - val_acc: 0.9404\n",
      "Epoch 26/30\n",
      "2871/2871 [==============================] - 0s 79us/step - loss: 0.0144 - acc: 0.9990 - val_loss: 0.2172 - val_acc: 0.9436\n",
      "Epoch 27/30\n",
      "2871/2871 [==============================] - 0s 83us/step - loss: 0.0132 - acc: 0.9990 - val_loss: 0.2252 - val_acc: 0.9373\n",
      "Epoch 28/30\n",
      "2871/2871 [==============================] - 0s 84us/step - loss: 0.0123 - acc: 0.9990 - val_loss: 0.2204 - val_acc: 0.9373\n",
      "Epoch 29/30\n",
      "2871/2871 [==============================] - 0s 80us/step - loss: 0.0117 - acc: 0.9986 - val_loss: 0.2328 - val_acc: 0.9404\n",
      "Epoch 30/30\n",
      "2871/2871 [==============================] - 0s 85us/step - loss: 0.0106 - acc: 0.9990 - val_loss: 0.2365 - val_acc: 0.9373\n"
     ]
    }
   ],
   "source": [
    "model.fit(x, y, epochs=30, batch_size=32, validation_split=0.1, shuffle=True)\n",
    "K.set_learning_phase(False)"
   ]
  },
  {
   "cell_type": "markdown",
   "metadata": {},
   "source": [
    "# Visualizing the knowledge learned by the network\n",
    "The main purpose of this exercise is to dig into the representation learned by the convolutional network. To do so, several techniques, as described in the writeup, are implemented. Before going into those, we import and set up some useful visualization tools from Matplotlib."
   ]
  },
  {
   "cell_type": "code",
   "execution_count": 24,
   "metadata": {
    "collapsed": true
   },
   "outputs": [],
   "source": [
    "import matplotlib.pyplot as plt\n",
    "fig_size = plt.rcParams[\"figure.figsize\"] = [15, 10]"
   ]
  },
  {
   "cell_type": "markdown",
   "metadata": {},
   "source": [
    "## Visualizing classes using gradient ascent\n",
    "To visualize what the network thinks a particular class looks like, we can start with a null sequence (filled with 'N' symbols) and repeatedly change it to move in the direction of the class being visualized. We can then use this function to check what the network thinks an intron-to-exon junction, for example, should look like."
   ]
  },
  {
   "cell_type": "code",
   "execution_count": 80,
   "metadata": {
    "collapsed": true
   },
   "outputs": [],
   "source": [
    "# class_name should be one of EI, IE or N\n",
    "def visualizeClass(class_name):\n",
    "    filter_index = -1\n",
    "    if class_name == 'EI':\n",
    "        filter_index = 0\n",
    "    elif class_name == 'IE':\n",
    "        filter_index = 1\n",
    "    elif class_name == 'N':\n",
    "        filter_index = 2\n",
    "    else:\n",
    "        print(\"class_name must be one of EI (exon->intron), IE (intron->exon), or N (neither)!\")\n",
    "        return\n",
    "    \n",
    "    loss = K.mean(model.output[:, :, filter_index])\n",
    "    input_seq = model.input\n",
    "    grads = K.gradients(loss, input_seq)[0]\n",
    "    iterate = K.function([input_seq], [loss, grads])\n",
    "    sequence = np.zeros((1, 4, 60))\n",
    "    sequence[:] = 0.25\n",
    "    step_size = 1. # Gradient ascent step size\n",
    "    \n",
    "    # Perform gradient ascent in the direction of the target class\n",
    "    for i in range(30):\n",
    "        loss_value, grads_value = iterate([sequence])\n",
    "        sequence += grads_value * step_size\n",
    "    \n",
    "    sequence[0] /= np.linalg.norm(sequence[0], 1, axis=0)\n",
    "    sequence = np.clip(sequence, 0, 1)\n",
    "    \n",
    "    plt.title(class_name + \" Visualization\")\n",
    "    plt.imshow(sequence[0], cmap='viridis')\n",
    "    plt.xticks(np.arange(60), np.arange(60)+1)\n",
    "    plt.yticks(np.arange(4), ('A', 'C', 'G', 'T'))\n",
    "    # Uncomment the line below to save the figure as an image\n",
    "    # plt.savefig('ClassVisualization' + class_name + '.png')\n",
    "    plt.show()"
   ]
  },
  {
   "cell_type": "markdown",
   "metadata": {},
   "source": [
    "Now, we can visualize our learned representations for each class as follows:"
   ]
  },
  {
   "cell_type": "code",
   "execution_count": 81,
   "metadata": {},
   "outputs": [
    {
     "data": {
      "image/png": "[encoded data removed]",
      "text/plain": [
       "<matplotlib.figure.Figure at 0x23fa9a86be0>"
      ]
     },
     "metadata": {},
     "output_type": "display_data"
    },
    {
     "data": {
      "image/png": "[encoded data removed]",
      "text/plain": [
       "<matplotlib.figure.Figure at 0x23fa7cdefd0>"
      ]
     },
     "metadata": {},
     "output_type": "display_data"
    },
    {
     "data": {
      "image/png": "[encoded data removed]",
      "text/plain": [
       "<matplotlib.figure.Figure at 0x23faaf66d30>"
      ]
     },
     "metadata": {},
     "output_type": "display_data"
    }
   ],
   "source": [
    "visualizeClass(\"EI\")\n",
    "visualizeClass(\"IE\")\n",
    "visualizeClass(\"N\")"
   ]
  },
  {
   "cell_type": "markdown",
   "metadata": {},
   "source": [
    "## Saliency Maps\n",
    "Why does the network make a certain prediction? What part of the input sequence is most important in producing the prediction? We can visualize this using saliency maps. We simply propagate the given sequence through the network, and then assess the computed gradients at the prediction output."
   ]
  },
  {
   "cell_type": "markdown",
   "metadata": {},
   "source": [
    "We start by writing a helper function that is used by the visualization code. This function simply maps the orthogonal input representation back into a compact string sequence."
   ]
  },
  {
   "cell_type": "code",
   "execution_count": 50,
   "metadata": {
    "collapsed": true
   },
   "outputs": [],
   "source": [
    "def sequenceFromOrthogonal(s):\n",
    "    s = s.T\n",
    "    l = []\n",
    "    for i in range(len(s)):\n",
    "        if s[i][0] == 1.:\n",
    "            l.append('A')\n",
    "        elif s[i][1] == 1.:\n",
    "            l.append('C')\n",
    "        elif s[i][2] == 1.:\n",
    "            l.append('G')\n",
    "        elif s[i][3] == 1.:\n",
    "            l.append('T')\n",
    "        elif s[i][0] == 1/3. and s[i][2] == 1/3. and s[i][3] == 1/3.:\n",
    "            l.append('D')\n",
    "        elif s[i][0] == 1/4. and s[i][1] == 1/4. and s[i][2] == 1/4. and s[i][3] == 1/4.:\n",
    "            l.append('N')\n",
    "        elif s[i][1] == 1/2. and s[i][2] == 1/2.:\n",
    "            l.append('S')\n",
    "        elif s[i][0] == 1/2. and s[i][2] == 1/2.:\n",
    "            l.append('R')\n",
    "    return l"
   ]
  },
  {
   "cell_type": "markdown",
   "metadata": {},
   "source": [
    "Next, we implement the saliency map visualization."
   ]
  },
  {
   "cell_type": "code",
   "execution_count": 69,
   "metadata": {
    "collapsed": true
   },
   "outputs": [],
   "source": [
    "# example_index is the index between 0 and 3189 of the example whose saliency map is to be visualized.\n",
    "def saliencyMap(example_index):\n",
    "    \n",
    "    # Step 1: retrieve the example from the dataset, get the network's prediction\n",
    "    print (\"Ground truth label: \" + str(np.argmax(y[example_index])))\n",
    "    prediction = np.argmax(model.predict(np.array([x[example_index]]))[0][0])\n",
    "    print (\"Predicted label: \" + str(prediction))\n",
    "    \n",
    "    loss = K.mean(model.output[:, :, prediction])\n",
    "    input_seq = model.input\n",
    "    grads = K.gradients(loss, input_seq)[0]\n",
    "    salience = K.function([input_seq], [loss, grads])\n",
    "    sequence = np.zeros((1, 4, 60))\n",
    "    sequence[0,:] = x[example_index]\n",
    "    \n",
    "    loss_value, grads_value = salience([sequence])\n",
    "    saliency_map = grads_value[0] * x[example_index]\n",
    "    saliency_map = np.sum(saliency_map, axis=0).reshape(1, 60)\n",
    "    \n",
    "    plt.xticks(np.arange(60), sequenceFromOrthogonal(x[example_index]))\n",
    "    plt.yticks([])\n",
    "    plt.imshow(saliency_map, cmap='viridis')\n",
    "    # Uncomment the line below to save the saliency map as an image\n",
    "    # plt.savefig('SaliencyMap' + str(example_index) + '.png')\n",
    "    plt.show()"
   ]
  },
  {
   "cell_type": "code",
   "execution_count": 79,
   "metadata": {},
   "outputs": [
    {
     "name": "stdout",
     "output_type": "stream",
     "text": [
      "Ground truth label: 0\n",
      "Predicted label: 0\n"
     ]
    },
    {
     "data": {
      "image/png": "[encoded data removed]",
      "text/plain": [
       "<matplotlib.figure.Figure at 0x23fa9a08b38>"
      ]
     },
     "metadata": {},
     "output_type": "display_data"
    }
   ],
   "source": [
    "saliencyMap(77)"
   ]
  },
  {
   "cell_type": "code",
   "execution_count": null,
   "metadata": {
    "collapsed": true
   },
   "outputs": [],
   "source": []
  }
 ],
 "metadata": {
  "kernelspec": {
   "display_name": "Python 3",
   "language": "python",
   "name": "python3"
  },
  "language_info": {
   "codemirror_mode": {
    "name": "ipython",
    "version": 3
   },
   "file_extension": ".py",
   "mimetype": "text/x-python",
   "name": "python",
   "nbconvert_exporter": "python",
   "pygments_lexer": "ipython3",
   "version": "3.6.1"
  }
 },
 "nbformat": 4,
 "nbformat_minor": 2
}
