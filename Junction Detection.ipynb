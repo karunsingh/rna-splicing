{
 "cells": [
  {
   "cell_type": "markdown",
   "metadata": {},
   "source": [
    "Import packages!"
   ]
  },
  {
   "cell_type": "code",
   "execution_count": 3,
   "metadata": {
    "collapsed": true
   },
   "outputs": [],
   "source": [
    "import numpy as np"
   ]
  },
  {
   "cell_type": "markdown",
   "metadata": {},
   "source": [
    "Read the splice data"
   ]
  },
  {
   "cell_type": "code",
   "execution_count": 4,
   "metadata": {
    "collapsed": true
   },
   "outputs": [],
   "source": [
    "fname = 'splice.data'\n",
    "with open(fname) as f:\n",
    "    content = f.readlines()\n",
    "content = [x.strip().split(',') for x in content]\n",
    "for l in content:\n",
    "    for i in range(len(l)):\n",
    "        l[i] = l[i].strip()\n",
    "raw_data = np.array(content)"
   ]
  },
  {
   "cell_type": "code",
   "execution_count": 5,
   "metadata": {
    "collapsed": true
   },
   "outputs": [],
   "source": [
    "# Given one 'row' of data, constructs an input and output out of it\n",
    "def getInstance(row):\n",
    "    one_hot = np.zeros((1, 3))\n",
    "    label = row[0]\n",
    "    if label == 'EI':\n",
    "        one_hot[0][0] = 1\n",
    "    elif label == 'IE':\n",
    "        one_hot[0][1] = 1\n",
    "    else:\n",
    "        one_hot[0][2] = 1\n",
    "    orth = np.zeros((len(row[2]), 4))\n",
    "    for i in range(len(row[2])):\n",
    "        c = row[2][i]\n",
    "        if c == 'A':\n",
    "            orth[i][0] = 1\n",
    "        elif c == 'C':\n",
    "            orth[i][1] = 1\n",
    "        elif c == 'G':\n",
    "            orth[i][2] = 1\n",
    "        elif c == 'T':\n",
    "            orth[i][3] = 1\n",
    "        elif c == 'D':\n",
    "            orth[i][0] = 1/3.\n",
    "            orth[i][2] = 1/3.\n",
    "            orth[i][3] = 1/3.\n",
    "        elif c == 'N':\n",
    "            orth[i][0] = 1/4.\n",
    "            orth[i][1] = 1/4.\n",
    "            orth[i][2] = 1/4.\n",
    "            orth[i][3] = 1/4.\n",
    "        elif c == 'S':\n",
    "            orth[i][1] = 1/2.\n",
    "            orth[i][2] = 1/2.\n",
    "        elif c == 'R':\n",
    "            orth[i][0] = 1/2.\n",
    "            orth[i][2] = 1/2.\n",
    "    return orth, one_hot"
   ]
  },
  {
   "cell_type": "code",
   "execution_count": 14,
   "metadata": {},
   "outputs": [
    {
     "name": "stdout",
     "output_type": "stream",
     "text": [
      "(3190, 4, 60) (3190, 1, 3)\n"
     ]
    }
   ],
   "source": [
    "x = []\n",
    "y = []\n",
    "for i in range(raw_data.shape[0]):\n",
    "    xi, yi = getInstance(raw_data[i])\n",
    "    x.append(xi)\n",
    "    y.append(yi)\n",
    "x = np.array(x)\n",
    "y = np.array(y)\n",
    "\n",
    "# Shuffle dataset since it's unevenly distributed\n",
    "shuffle_index = np.random.permutation(len(x))\n",
    "x = x[shuffle_index]\n",
    "y = y[shuffle_index]\n",
    "\n",
    "# Conv1D expects channels first\n",
    "x = np.swapaxes(x, 1, 2)\n",
    "print (x.shape, y.shape)"
   ]
  },
  {
   "cell_type": "markdown",
   "metadata": {},
   "source": [
    "Construct a classification model"
   ]
  },
  {
   "cell_type": "code",
   "execution_count": 7,
   "metadata": {},
   "outputs": [
    {
     "name": "stderr",
     "output_type": "stream",
     "text": [
      "Using TensorFlow backend.\n"
     ]
    }
   ],
   "source": [
    "from keras.models import Sequential\n",
    "from keras.layers import Dense, Activation, Conv1D, Dropout"
   ]
  },
  {
   "cell_type": "code",
   "execution_count": 21,
   "metadata": {},
   "outputs": [],
   "source": [
    "model = Sequential()\n",
    "model.add(Conv1D(16, 3, input_shape=(None, 60), padding='same'))\n",
    "model.add(Activation('relu'))\n",
    "model.add(Conv1D(32, 3, padding='same'))\n",
    "model.add(Activation('relu'))\n",
    "model.add(Dense(3))\n",
    "model.add(Dropout(0.5))\n",
    "model.add(Activation('softmax'))"
   ]
  },
  {
   "cell_type": "code",
   "execution_count": 22,
   "metadata": {
    "collapsed": true
   },
   "outputs": [],
   "source": [
    "model.compile(optimizer='adam',\n",
    "              loss='categorical_crossentropy',\n",
    "              metrics=['accuracy'])"
   ]
  },
  {
   "cell_type": "code",
   "execution_count": 23,
   "metadata": {},
   "outputs": [
    {
     "name": "stdout",
     "output_type": "stream",
     "text": [
      "Train on 2871 samples, validate on 319 samples\n",
      "Epoch 1/30\n",
      "2871/2871 [==============================] - 2s 805us/step - loss: 1.0513 - acc: 0.4046 - val_loss: 1.0045 - val_acc: 0.5321\n",
      "Epoch 2/30\n",
      "2871/2871 [==============================] - 1s 191us/step - loss: 0.9783 - acc: 0.4627 - val_loss: 0.8805 - val_acc: 0.6599\n",
      "Epoch 3/30\n",
      "2871/2871 [==============================] - 1s 182us/step - loss: 0.8336 - acc: 0.5595 - val_loss: 0.6496 - val_acc: 0.8103\n",
      "Epoch 4/30\n",
      "2871/2871 [==============================] - 0s 167us/step - loss: 0.6729 - acc: 0.6323 - val_loss: 0.4647 - val_acc: 0.8636\n",
      "Epoch 5/30\n",
      "2871/2871 [==============================] - 0s 158us/step - loss: 0.5616 - acc: 0.6723 - val_loss: 0.3487 - val_acc: 0.8918\n",
      "Epoch 6/30\n",
      "2871/2871 [==============================] - 0s 151us/step - loss: 0.5166 - acc: 0.6842 - val_loss: 0.2998 - val_acc: 0.9154\n",
      "Epoch 7/30\n",
      "2871/2871 [==============================] - 0s 146us/step - loss: 0.4796 - acc: 0.6964 - val_loss: 0.2554 - val_acc: 0.9216\n",
      "Epoch 8/30\n",
      "2871/2871 [==============================] - 0s 132us/step - loss: 0.4565 - acc: 0.7068 - val_loss: 0.2327 - val_acc: 0.9232\n",
      "Epoch 9/30\n",
      "2871/2871 [==============================] - 0s 139us/step - loss: 0.4419 - acc: 0.7051 - val_loss: 0.2111 - val_acc: 0.9428\n",
      "Epoch 10/30\n",
      "2871/2871 [==============================] - 0s 139us/step - loss: 0.4260 - acc: 0.7126 - val_loss: 0.1963 - val_acc: 0.9412\n",
      "Epoch 11/30\n",
      "2871/2871 [==============================] - 0s 124us/step - loss: 0.4197 - acc: 0.7220 - val_loss: 0.1822 - val_acc: 0.9459\n",
      "Epoch 12/30\n",
      "2871/2871 [==============================] - 0s 122us/step - loss: 0.4097 - acc: 0.7191 - val_loss: 0.1804 - val_acc: 0.9514\n",
      "Epoch 13/30\n",
      "2871/2871 [==============================] - 0s 114us/step - loss: 0.3980 - acc: 0.7272 - val_loss: 0.1713 - val_acc: 0.9530\n",
      "Epoch 14/30\n",
      "2871/2871 [==============================] - 0s 120us/step - loss: 0.3896 - acc: 0.7243 - val_loss: 0.1675 - val_acc: 0.9530\n",
      "Epoch 15/30\n",
      "2871/2871 [==============================] - 0s 123us/step - loss: 0.3792 - acc: 0.7312 - val_loss: 0.1733 - val_acc: 0.9444\n",
      "Epoch 16/30\n",
      "2871/2871 [==============================] - 0s 112us/step - loss: 0.3835 - acc: 0.7271 - val_loss: 0.1744 - val_acc: 0.9451\n",
      "Epoch 17/30\n",
      "2871/2871 [==============================] - 0s 128us/step - loss: 0.3765 - acc: 0.7301 - val_loss: 0.1601 - val_acc: 0.9561\n",
      "Epoch 18/30\n",
      "2871/2871 [==============================] - 0s 104us/step - loss: 0.3741 - acc: 0.7276 - val_loss: 0.1625 - val_acc: 0.9483\n",
      "Epoch 19/30\n",
      "2871/2871 [==============================] - 0s 110us/step - loss: 0.3658 - acc: 0.7355 - val_loss: 0.1574 - val_acc: 0.9545\n",
      "Epoch 20/30\n",
      "2871/2871 [==============================] - 0s 90us/step - loss: 0.3726 - acc: 0.7278 - val_loss: 0.1681 - val_acc: 0.9475\n",
      "Epoch 21/30\n",
      "2871/2871 [==============================] - 0s 90us/step - loss: 0.3570 - acc: 0.7330 - val_loss: 0.1684 - val_acc: 0.9459\n",
      "Epoch 22/30\n",
      "2871/2871 [==============================] - 0s 103us/step - loss: 0.3654 - acc: 0.7328 - val_loss: 0.1629 - val_acc: 0.9459\n",
      "Epoch 23/30\n",
      "2871/2871 [==============================] - 0s 98us/step - loss: 0.3608 - acc: 0.7318 - val_loss: 0.1645 - val_acc: 0.9491\n",
      "Epoch 24/30\n",
      "2871/2871 [==============================] - 0s 116us/step - loss: 0.3475 - acc: 0.7402 - val_loss: 0.1539 - val_acc: 0.9530\n",
      "Epoch 25/30\n",
      "2871/2871 [==============================] - 0s 102us/step - loss: 0.3569 - acc: 0.7304 - val_loss: 0.1544 - val_acc: 0.9491\n",
      "Epoch 26/30\n",
      "2871/2871 [==============================] - 0s 94us/step - loss: 0.3475 - acc: 0.7389 - val_loss: 0.1571 - val_acc: 0.9522\n",
      "Epoch 27/30\n",
      "2871/2871 [==============================] - 0s 98us/step - loss: 0.3406 - acc: 0.7381 - val_loss: 0.1715 - val_acc: 0.9412\n",
      "Epoch 28/30\n",
      "2871/2871 [==============================] - 0s 97us/step - loss: 0.3485 - acc: 0.7339 - val_loss: 0.1725 - val_acc: 0.9459\n",
      "Epoch 29/30\n",
      "2871/2871 [==============================] - 0s 104us/step - loss: 0.3469 - acc: 0.7338 - val_loss: 0.1698 - val_acc: 0.9444\n",
      "Epoch 30/30\n",
      "2871/2871 [==============================] - 0s 99us/step - loss: 0.3365 - acc: 0.7342 - val_loss: 0.1830 - val_acc: 0.9428\n"
     ]
    },
    {
     "data": {
      "text/plain": [
       "<keras.callbacks.History at 0x1c056909b38>"
      ]
     },
     "execution_count": 23,
     "metadata": {},
     "output_type": "execute_result"
    }
   ],
   "source": [
    "model.fit(x, y, epochs=30, batch_size=32, validation_split=0.1, shuffle=True)"
   ]
  },
  {
   "cell_type": "code",
   "execution_count": null,
   "metadata": {
    "collapsed": true
   },
   "outputs": [],
   "source": []
  }
 ],
 "metadata": {
  "kernelspec": {
   "display_name": "Python 3",
   "language": "python",
   "name": "python3"
  },
  "language_info": {
   "codemirror_mode": {
    "name": "ipython",
    "version": 3
   },
   "file_extension": ".py",
   "mimetype": "text/x-python",
   "name": "python",
   "nbconvert_exporter": "python",
   "pygments_lexer": "ipython3",
   "version": "3.6.1"
  }
 },
 "nbformat": 4,
 "nbformat_minor": 2
}
